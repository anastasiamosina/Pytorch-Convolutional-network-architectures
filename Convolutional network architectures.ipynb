{
  "cells": [
    {
      "cell_type": "code",
      "execution_count": null,
      "metadata": {
        "id": "OHiAbU4HHkQn"
      },
      "outputs": [],
      "source": [
        "import torch\n",
        "from torch import nn\n",
        "import torchvision as tv\n",
        "from torchsummary import summary\n",
        "import time\n",
        "import matplotlib.pyplot as plt"
      ]
    },
    {
      "cell_type": "code",
      "source": [
        "from google.colab import drive\n",
        "drive.mount(\"/content/disk\")"
      ],
      "metadata": {
        "colab": {
          "base_uri": "https://localhost:8080/"
        },
        "id": "PO4Yda2BWfHZ",
        "outputId": "0867f2a5-c9e5-47a2-a12d-40445a3ea0c0"
      },
      "execution_count": null,
      "outputs": [
        {
          "output_type": "stream",
          "name": "stdout",
          "text": [
            "Mounted at /content/disk\n"
          ]
        }
      ]
    },
    {
      "cell_type": "code",
      "execution_count": null,
      "metadata": {
        "colab": {
          "base_uri": "https://localhost:8080/",
          "height": 35
        },
        "id": "8_zazpmEIMiW",
        "outputId": "34328930-2fae-4a6d-fdb8-97a023bd5527"
      },
      "outputs": [
        {
          "output_type": "execute_result",
          "data": {
            "text/plain": [
              "'cuda'"
            ],
            "application/vnd.google.colaboratory.intrinsic+json": {
              "type": "string"
            }
          },
          "metadata": {},
          "execution_count": 3
        }
      ],
      "source": [
        "device = 'cuda' if torch.cuda.is_available() else 'cpu'\n",
        "device"
      ]
    },
    {
      "cell_type": "code",
      "execution_count": null,
      "metadata": {
        "id": "38S1a0wcH8wm"
      },
      "outputs": [],
      "source": [
        "def evaluate_accuracy(data_iter, net):\n",
        "    acc_sum, n = 0, 0\n",
        "    net.eval()\n",
        "    for X, y in data_iter:\n",
        "        X, y = X.to(device), y.to(device)\n",
        "        y_hat = net(X)\n",
        "        acc_sum += (y_hat[0].argmax(axis=1) == y).sum()\n",
        "        n += y.shape[0]\n",
        "    return acc_sum.item() / n"
      ]
    },
    {
      "cell_type": "code",
      "execution_count": null,
      "metadata": {
        "id": "zEAqKmrpIJwx"
      },
      "outputs": [],
      "source": [
        "def train(net, train_iter, test_iter, trainer, num_epochs):\n",
        "    train_loss = []\n",
        "    net.to(device)\n",
        "    loss = nn.CrossEntropyLoss(reduction='sum')\n",
        "    #net.train()\n",
        "    for epoch in range(num_epochs):\n",
        "        train_l_sum, train_acc_sum, n, start = 0.0, 0.0, 0, time.time()\n",
        "        net.train()\n",
        "        for i, (X, y) in enumerate(train_iter):\n",
        "            X, y = X.to(device), y.to(device)\n",
        "            trainer.zero_grad()\n",
        "            y_hat = net(X)\n",
        "            l = loss(y_hat, y)\n",
        "            l.backward()\n",
        "            trainer.step()\n",
        "            train_l_sum += l.item()\n",
        "            train_acc_sum += (y_hat.argmax(axis=1) == y).sum().item()\n",
        "            n += y.shape[0]\n",
        "\n",
        "            if i % 100 == 0:\n",
        "              print(f\"Step {i}. time since epoch: {time.time() -  start:.3f}. \"\n",
        "                    f\"Train acc: {train_acc_sum / n:.3f}. Train Loss: {train_l_sum / n:.3f}\")\n",
        "        test_acc = evaluate_accuracy(test_iter, net.to(device))\n",
        "        print('-' * 20)\n",
        "        train_loss.append(train_l_sum / n)\n",
        "        print(f'epoch {epoch + 1}, loss {train_l_sum / n:.4f}, train acc {train_acc_sum / n:.3f}'\n",
        "              f', test acc {test_acc:.3f}, time {time.time() - start:.1f} sec')\n",
        "    return train_loss"
      ]
    },
    {
      "cell_type": "code",
      "execution_count": null,
      "metadata": {
        "id": "dsaryNQzIbZI",
        "colab": {
          "base_uri": "https://localhost:8080/"
        },
        "outputId": "f0d48fdc-efe4-4e26-83a0-d41aec621acb"
      },
      "outputs": [
        {
          "output_type": "stream",
          "name": "stdout",
          "text": [
            "Downloading https://www.itl.nist.gov/iaui/vip/cs_links/EMNIST/gzip.zip to ./EMNIST/raw/gzip.zip\n"
          ]
        },
        {
          "output_type": "stream",
          "name": "stderr",
          "text": [
            "100%|██████████| 561753746/561753746 [00:05<00:00, 108089729.99it/s]\n"
          ]
        },
        {
          "output_type": "stream",
          "name": "stdout",
          "text": [
            "Extracting ./EMNIST/raw/gzip.zip to ./EMNIST/raw\n"
          ]
        }
      ],
      "source": [
        "BATCH_SIZE = 256\n",
        "transoforms = tv.transforms.Compose([\n",
        "    tv.transforms.Grayscale(3),\n",
        "    tv.transforms.Resize((224, 224)),\n",
        "    tv.transforms.ToTensor()\n",
        "])\n",
        "\n",
        "train_dataset = tv.datasets.EMNIST('.', train=True, transform=transoforms, download=True, split='mnist')\n",
        "test_dataset = tv.datasets.EMNIST('.', train=False, transform=transoforms, download=True, split='mnist')\n",
        "train_iter = torch.utils.data.DataLoader(train_dataset, batch_size=BATCH_SIZE)\n",
        "test_iter = torch.utils.data.DataLoader(test_dataset, batch_size=BATCH_SIZE)"
      ]
    },
    {
      "cell_type": "code",
      "source": [
        "train_dataset.targets.shape"
      ],
      "metadata": {
        "colab": {
          "base_uri": "https://localhost:8080/"
        },
        "id": "6Gz9ylj6dWqz",
        "outputId": "dfcd6487-d909-4d52-f070-dc9ea9e4f800"
      },
      "execution_count": null,
      "outputs": [
        {
          "output_type": "execute_result",
          "data": {
            "text/plain": [
              "torch.Size([60000])"
            ]
          },
          "metadata": {},
          "execution_count": 62
        }
      ]
    },
    {
      "cell_type": "code",
      "source": [
        "plt.imshow(train_dataset[0][1].numpy().reshape(224,224), cmap='gray');"
      ],
      "metadata": {
        "colab": {
          "base_uri": "https://localhost:8080/",
          "height": 434
        },
        "id": "kv9P5jwTdeJD",
        "outputId": "e97ec72b-62c1-4d9a-d212-53d505c4a1f6"
      },
      "execution_count": null,
      "outputs": [
        {
          "output_type": "display_data",
          "data": {
            "text/plain": [
              "<Figure size 640x480 with 1 Axes>"
            ],
            "image/png": "[encoded data removed]"
          },
          "metadata": {}
        }
      ]
    },
    {
      "cell_type": "code",
      "execution_count": null,
      "metadata": {
        "colab": {
          "base_uri": "https://localhost:8080/"
        },
        "id": "3GNROhS3I-fR",
        "outputId": "d8f500a4-66ca-4028-f661-f5e4c801f9d6"
      },
      "outputs": [
        {
          "name": "stderr",
          "output_type": "stream",
          "text": [
            "/usr/local/lib/python3.10/dist-packages/torchvision/models/_utils.py:208: UserWarning: The parameter 'pretrained' is deprecated since 0.13 and may be removed in the future, please use 'weights' instead.\n",
            "  warnings.warn(\n",
            "/usr/local/lib/python3.10/dist-packages/torchvision/models/_utils.py:223: UserWarning: Arguments other than a weight enum or `None` for 'weights' are deprecated since 0.13 and may be removed in the future. The current behavior is equivalent to passing `weights=ResNet18_Weights.IMAGENET1K_V1`. You can also use `weights=ResNet18_Weights.DEFAULT` to get the most up-to-date weights.\n",
            "  warnings.warn(msg)\n"
          ]
        },
        {
          "name": "stdout",
          "output_type": "stream",
          "text": [
            "Step 0. time since epoch: 7.588. Train acc: 0.105. Train Loss: 2.394\n",
            "Step 100. time since epoch: 68.634. Train acc: 0.795. Train Loss: 0.944\n",
            "Step 200. time since epoch: 130.595. Train acc: 0.862. Train Loss: 0.651\n",
            "--------------------\n",
            "epoch 1, loss 0.5986, train acc 0.873, test acc 0.945, time 167.3 sec\n",
            "Step 0. time since epoch: 0.569. Train acc: 0.910. Train Loss: 0.302\n",
            "Step 100. time since epoch: 60.885. Train acc: 0.948. Train Loss: 0.236\n",
            "Step 200. time since epoch: 121.395. Train acc: 0.951. Train Loss: 0.218\n",
            "--------------------\n",
            "epoch 2, loss 0.2138, train acc 0.952, test acc 0.958, time 157.6 sec\n",
            "Step 0. time since epoch: 0.568. Train acc: 0.930. Train Loss: 0.223\n",
            "Step 100. time since epoch: 60.652. Train acc: 0.959. Train Loss: 0.170\n",
            "Step 200. time since epoch: 120.646. Train acc: 0.960. Train Loss: 0.164\n",
            "--------------------\n",
            "epoch 3, loss 0.1618, train acc 0.960, test acc 0.964, time 156.7 sec\n",
            "Step 0. time since epoch: 0.570. Train acc: 0.941. Train Loss: 0.190\n",
            "Step 100. time since epoch: 60.664. Train acc: 0.964. Train Loss: 0.141\n",
            "Step 200. time since epoch: 121.022. Train acc: 0.965. Train Loss: 0.138\n",
            "--------------------\n",
            "epoch 4, loss 0.1371, train acc 0.965, test acc 0.966, time 157.4 sec\n",
            "Step 0. time since epoch: 0.569. Train acc: 0.941. Train Loss: 0.170\n",
            "Step 100. time since epoch: 60.817. Train acc: 0.968. Train Loss: 0.123\n",
            "Step 200. time since epoch: 121.046. Train acc: 0.968. Train Loss: 0.122\n",
            "--------------------\n",
            "epoch 5, loss 0.1219, train acc 0.968, test acc 0.968, time 157.4 sec\n",
            "Step 0. time since epoch: 0.745. Train acc: 0.949. Train Loss: 0.156\n",
            "Step 100. time since epoch: 60.967. Train acc: 0.970. Train Loss: 0.112\n",
            "Step 200. time since epoch: 121.373. Train acc: 0.970. Train Loss: 0.112\n",
            "--------------------\n",
            "epoch 6, loss 0.1115, train acc 0.970, test acc 0.970, time 157.6 sec\n",
            "Step 0. time since epoch: 0.570. Train acc: 0.957. Train Loss: 0.145\n",
            "Step 100. time since epoch: 60.963. Train acc: 0.972. Train Loss: 0.104\n",
            "Step 200. time since epoch: 121.406. Train acc: 0.972. Train Loss: 0.104\n",
            "--------------------\n",
            "epoch 7, loss 0.1036, train acc 0.972, test acc 0.970, time 157.6 sec\n",
            "Step 0. time since epoch: 0.571. Train acc: 0.961. Train Loss: 0.137\n",
            "Step 100. time since epoch: 60.916. Train acc: 0.973. Train Loss: 0.097\n",
            "Step 200. time since epoch: 121.212. Train acc: 0.973. Train Loss: 0.098\n",
            "--------------------\n",
            "epoch 8, loss 0.0975, train acc 0.973, test acc 0.972, time 157.5 sec\n",
            "Step 0. time since epoch: 0.566. Train acc: 0.961. Train Loss: 0.130\n",
            "Step 100. time since epoch: 60.842. Train acc: 0.975. Train Loss: 0.092\n",
            "Step 200. time since epoch: 121.021. Train acc: 0.975. Train Loss: 0.093\n",
            "--------------------\n",
            "epoch 9, loss 0.0925, train acc 0.975, test acc 0.973, time 157.3 sec\n",
            "Step 0. time since epoch: 0.568. Train acc: 0.961. Train Loss: 0.125\n",
            "Step 100. time since epoch: 60.758. Train acc: 0.976. Train Loss: 0.087\n",
            "Step 200. time since epoch: 120.944. Train acc: 0.976. Train Loss: 0.088\n",
            "--------------------\n",
            "epoch 10, loss 0.0884, train acc 0.976, test acc 0.973, time 157.3 sec\n"
          ]
        }
      ],
      "source": [
        "model = tv.models.resnet18(pretrained=True)\n",
        "# Убираем требование градиента:\n",
        "for param in model.parameters():\n",
        "    param.requires_grad = False\n",
        "model.fc = nn.Linear(in_features=512, out_features=10)\n",
        "params_to_update = []\n",
        "for name, param in model.named_parameters():\n",
        "    if param.requires_grad == True:\n",
        "        params_to_update.append(param)\n",
        "trainer = torch.optim.Adam(params_to_update, lr=0.001)\n",
        "train_loss_resnet18=train(model, train_iter, test_iter, trainer, 10)"
      ]
    },
    {
      "cell_type": "code",
      "execution_count": null,
      "metadata": {
        "colab": {
          "base_uri": "https://localhost:8080/"
        },
        "id": "elLdohUUrJdx",
        "outputId": "7fede51d-f57f-4a60-c91c-afbabf169d4d"
      },
      "outputs": [
        {
          "output_type": "stream",
          "name": "stdout",
          "text": [
            "Step 0. time since epoch: 2.429. Train acc: 0.078. Train Loss: 2.337\n",
            "Step 100. time since epoch: 245.578. Train acc: 0.805. Train Loss: 0.863\n",
            "Step 200. time since epoch: 488.425. Train acc: 0.866. Train Loss: 0.604\n",
            "--------------------\n",
            "epoch 1, loss 0.5579, train acc 0.876, test acc 0.942, time 642.2 sec\n",
            "Step 0. time since epoch: 2.346. Train acc: 0.941. Train Loss: 0.290\n",
            "Step 100. time since epoch: 225.407. Train acc: 0.947. Train Loss: 0.230\n",
            "Step 200. time since epoch: 448.844. Train acc: 0.950. Train Loss: 0.212\n",
            "--------------------\n",
            "epoch 2, loss 0.2083, train acc 0.951, test acc 0.956, time 595.7 sec\n",
            "Step 0. time since epoch: 2.186. Train acc: 0.945. Train Loss: 0.209\n",
            "Step 100. time since epoch: 225.549. Train acc: 0.960. Train Loss: 0.163\n",
            "Step 200. time since epoch: 448.624. Train acc: 0.961. Train Loss: 0.157\n",
            "--------------------\n",
            "epoch 3, loss 0.1562, train acc 0.961, test acc 0.961, time 595.7 sec\n",
            "Step 0. time since epoch: 2.343. Train acc: 0.953. Train Loss: 0.171\n",
            "Step 100. time since epoch: 225.518. Train acc: 0.966. Train Loss: 0.133\n",
            "Step 200. time since epoch: 448.546. Train acc: 0.967. Train Loss: 0.131\n",
            "--------------------\n",
            "epoch 4, loss 0.1307, train acc 0.967, test acc 0.965, time 595.3 sec\n",
            "Step 0. time since epoch: 2.187. Train acc: 0.965. Train Loss: 0.147\n",
            "Step 100. time since epoch: 224.757. Train acc: 0.970. Train Loss: 0.116\n",
            "Step 200. time since epoch: 447.399. Train acc: 0.970. Train Loss: 0.115\n",
            "--------------------\n",
            "epoch 5, loss 0.1148, train acc 0.970, test acc 0.967, time 594.4 sec\n",
            "Step 0. time since epoch: 2.328. Train acc: 0.965. Train Loss: 0.130\n",
            "Step 100. time since epoch: 224.889. Train acc: 0.973. Train Loss: 0.103\n",
            "Step 200. time since epoch: 447.544. Train acc: 0.973. Train Loss: 0.103\n",
            "--------------------\n",
            "epoch 6, loss 0.1036, train acc 0.972, test acc 0.968, time 594.3 sec\n",
            "Step 0. time since epoch: 2.189. Train acc: 0.973. Train Loss: 0.117\n",
            "Step 100. time since epoch: 224.844. Train acc: 0.975. Train Loss: 0.094\n",
            "Step 200. time since epoch: 447.706. Train acc: 0.975. Train Loss: 0.095\n",
            "--------------------\n",
            "epoch 7, loss 0.0952, train acc 0.975, test acc 0.968, time 594.6 sec\n",
            "Step 0. time since epoch: 2.485. Train acc: 0.973. Train Loss: 0.106\n",
            "Step 100. time since epoch: 224.736. Train acc: 0.976. Train Loss: 0.087\n",
            "Step 200. time since epoch: 447.229. Train acc: 0.976. Train Loss: 0.088\n",
            "--------------------\n",
            "epoch 8, loss 0.0885, train acc 0.976, test acc 0.969, time 594.0 sec\n",
            "Step 0. time since epoch: 2.199. Train acc: 0.973. Train Loss: 0.098\n",
            "Step 100. time since epoch: 224.344. Train acc: 0.978. Train Loss: 0.081\n",
            "Step 200. time since epoch: 446.865. Train acc: 0.977. Train Loss: 0.083\n"
          ]
        }
      ],
      "source": [
        "model = tv.models.densenet161(pretrained=True)\n",
        "# Убираем требование градиента:\n",
        "for param in model.parameters():\n",
        "    param.requires_grad = False\n",
        "model.classifier = nn.Linear(in_features=2208, out_features=10)\n",
        "params_to_update = []\n",
        "for name, param in model.named_parameters():\n",
        "    if param.requires_grad == True:\n",
        "        params_to_update.append(param)\n",
        "trainer = torch.optim.Adam(params_to_update, lr=0.001)\n",
        "train_loss_densenet161=train(model, train_iter, test_iter, trainer, 10)"
      ]
    },
    {
      "cell_type": "code",
      "source": [
        "model = tv.models.vgg16(pretrained=True)\n",
        "model"
      ],
      "metadata": {
        "colab": {
          "base_uri": "https://localhost:8080/"
        },
        "id": "zdc_9qsYiKil",
        "outputId": "1df6158c-221c-44bc-996a-96fe0d010145"
      },
      "execution_count": null,
      "outputs": [
        {
          "output_type": "stream",
          "name": "stderr",
          "text": [
            "/usr/local/lib/python3.10/dist-packages/torchvision/models/_utils.py:208: UserWarning: The parameter 'pretrained' is deprecated since 0.13 and may be removed in the future, please use 'weights' instead.\n",
            "  warnings.warn(\n",
            "/usr/local/lib/python3.10/dist-packages/torchvision/models/_utils.py:223: UserWarning: Arguments other than a weight enum or `None` for 'weights' are deprecated since 0.13 and may be removed in the future. The current behavior is equivalent to passing `weights=VGG16_Weights.IMAGENET1K_V1`. You can also use `weights=VGG16_Weights.DEFAULT` to get the most up-to-date weights.\n",
            "  warnings.warn(msg)\n"
          ]
        },
        {
          "output_type": "execute_result",
          "data": {
            "text/plain": [
              "VGG(\n",
              "  (features): Sequential(\n",
              "    (0): Conv2d(3, 64, kernel_size=(3, 3), stride=(1, 1), padding=(1, 1))\n",
              "    (1): ReLU(inplace=True)\n",
              "    (2): Conv2d(64, 64, kernel_size=(3, 3), stride=(1, 1), padding=(1, 1))\n",
              "    (3): ReLU(inplace=True)\n",
              "    (4): MaxPool2d(kernel_size=2, stride=2, padding=0, dilation=1, ceil_mode=False)\n",
              "    (5): Conv2d(64, 128, kernel_size=(3, 3), stride=(1, 1), padding=(1, 1))\n",
              "    (6): ReLU(inplace=True)\n",
              "    (7): Conv2d(128, 128, kernel_size=(3, 3), stride=(1, 1), padding=(1, 1))\n",
              "    (8): ReLU(inplace=True)\n",
              "    (9): MaxPool2d(kernel_size=2, stride=2, padding=0, dilation=1, ceil_mode=False)\n",
              "    (10): Conv2d(128, 256, kernel_size=(3, 3), stride=(1, 1), padding=(1, 1))\n",
              "    (11): ReLU(inplace=True)\n",
              "    (12): Conv2d(256, 256, kernel_size=(3, 3), stride=(1, 1), padding=(1, 1))\n",
              "    (13): ReLU(inplace=True)\n",
              "    (14): Conv2d(256, 256, kernel_size=(3, 3), stride=(1, 1), padding=(1, 1))\n",
              "    (15): ReLU(inplace=True)\n",
              "    (16): MaxPool2d(kernel_size=2, stride=2, padding=0, dilation=1, ceil_mode=False)\n",
              "    (17): Conv2d(256, 512, kernel_size=(3, 3), stride=(1, 1), padding=(1, 1))\n",
              "    (18): ReLU(inplace=True)\n",
              "    (19): Conv2d(512, 512, kernel_size=(3, 3), stride=(1, 1), padding=(1, 1))\n",
              "    (20): ReLU(inplace=True)\n",
              "    (21): Conv2d(512, 512, kernel_size=(3, 3), stride=(1, 1), padding=(1, 1))\n",
              "    (22): ReLU(inplace=True)\n",
              "    (23): MaxPool2d(kernel_size=2, stride=2, padding=0, dilation=1, ceil_mode=False)\n",
              "    (24): Conv2d(512, 512, kernel_size=(3, 3), stride=(1, 1), padding=(1, 1))\n",
              "    (25): ReLU(inplace=True)\n",
              "    (26): Conv2d(512, 512, kernel_size=(3, 3), stride=(1, 1), padding=(1, 1))\n",
              "    (27): ReLU(inplace=True)\n",
              "    (28): Conv2d(512, 512, kernel_size=(3, 3), stride=(1, 1), padding=(1, 1))\n",
              "    (29): ReLU(inplace=True)\n",
              "    (30): MaxPool2d(kernel_size=2, stride=2, padding=0, dilation=1, ceil_mode=False)\n",
              "  )\n",
              "  (avgpool): AdaptiveAvgPool2d(output_size=(7, 7))\n",
              "  (classifier): Sequential(\n",
              "    (0): Linear(in_features=25088, out_features=4096, bias=True)\n",
              "    (1): ReLU(inplace=True)\n",
              "    (2): Dropout(p=0.5, inplace=False)\n",
              "    (3): Linear(in_features=4096, out_features=4096, bias=True)\n",
              "    (4): ReLU(inplace=True)\n",
              "    (5): Dropout(p=0.5, inplace=False)\n",
              "    (6): Linear(in_features=4096, out_features=1000, bias=True)\n",
              "  )\n",
              ")"
            ]
          },
          "metadata": {},
          "execution_count": 63
        }
      ]
    },
    {
      "cell_type": "code",
      "source": [
        "model = tv.models.vgg16(pretrained=True)\n",
        "# Убираем требование градиента:\n",
        "for param in model.parameters():\n",
        "    param.requires_grad = False\n",
        "model.classifier[6] = nn.Linear(in_features=4096, out_features=10)\n",
        "params_to_update = []\n",
        "for name, param in model.named_parameters():\n",
        "    if param.requires_grad == True:\n",
        "        params_to_update.append(param)\n",
        "        print(\"\\t\",name)\n",
        "trainer = torch.optim.Adam(params_to_update, lr=0.001)\n",
        "train_loss_vgg16=train(model, train_iter, test_iter, trainer, 10)"
      ],
      "metadata": {
        "colab": {
          "base_uri": "https://localhost:8080/"
        },
        "id": "AKH3wZ-6J_Bv",
        "outputId": "289a27d5-bff5-4e24-bba6-df720870e7c3"
      },
      "execution_count": null,
      "outputs": [
        {
          "output_type": "stream",
          "name": "stdout",
          "text": [
            "\t classifier.6.weight\n",
            "\t classifier.6.bias\n",
            "Step 0. time since epoch: 2.056. Train acc: 0.105. Train Loss: 2.321\n",
            "Step 100. time since epoch: 170.374. Train acc: 0.770. Train Loss: 0.827\n",
            "Step 200. time since epoch: 338.075. Train acc: 0.819. Train Loss: 0.638\n",
            "--------------------\n",
            "epoch 1, loss 0.6050, train acc 0.827, test acc 0.930, time 445.4 sec\n",
            "Step 0. time since epoch: 1.629. Train acc: 0.957. Train Loss: 0.273\n",
            "Step 100. time since epoch: 169.098. Train acc: 0.942. Train Loss: 0.254\n",
            "Step 200. time since epoch: 337.170. Train acc: 0.945. Train Loss: 0.232\n",
            "--------------------\n",
            "epoch 2, loss 0.2267, train acc 0.946, test acc 0.953, time 444.6 sec\n",
            "Step 0. time since epoch: 1.638. Train acc: 0.961. Train Loss: 0.164\n",
            "Step 100. time since epoch: 169.090. Train acc: 0.959. Train Loss: 0.171\n",
            "Step 200. time since epoch: 336.552. Train acc: 0.959. Train Loss: 0.164\n",
            "--------------------\n",
            "epoch 3, loss 0.1619, train acc 0.960, test acc 0.963, time 443.7 sec\n",
            "Step 0. time since epoch: 1.669. Train acc: 0.961. Train Loss: 0.123\n",
            "Step 100. time since epoch: 169.143. Train acc: 0.966. Train Loss: 0.136\n",
            "Step 200. time since epoch: 336.865. Train acc: 0.966. Train Loss: 0.132\n",
            "--------------------\n",
            "epoch 4, loss 0.1311, train acc 0.967, test acc 0.969, time 444.1 sec\n",
            "Step 0. time since epoch: 1.650. Train acc: 0.973. Train Loss: 0.099\n",
            "Step 100. time since epoch: 169.004. Train acc: 0.971. Train Loss: 0.115\n",
            "Step 200. time since epoch: 337.110. Train acc: 0.971. Train Loss: 0.113\n",
            "--------------------\n",
            "epoch 5, loss 0.1119, train acc 0.972, test acc 0.972, time 444.3 sec\n",
            "Step 0. time since epoch: 1.639. Train acc: 0.980. Train Loss: 0.085\n",
            "Step 100. time since epoch: 169.002. Train acc: 0.975. Train Loss: 0.100\n",
            "Step 200. time since epoch: 336.972. Train acc: 0.975. Train Loss: 0.099\n",
            "--------------------\n",
            "epoch 6, loss 0.0984, train acc 0.975, test acc 0.974, time 444.3 sec\n",
            "Step 0. time since epoch: 1.636. Train acc: 0.984. Train Loss: 0.075\n",
            "Step 100. time since epoch: 169.213. Train acc: 0.978. Train Loss: 0.089\n",
            "Step 200. time since epoch: 336.812. Train acc: 0.977. Train Loss: 0.089\n",
            "--------------------\n",
            "epoch 7, loss 0.0882, train acc 0.978, test acc 0.975, time 444.2 sec\n",
            "Step 0. time since epoch: 1.652. Train acc: 0.988. Train Loss: 0.068\n",
            "Step 100. time since epoch: 169.158. Train acc: 0.980. Train Loss: 0.081\n",
            "Step 200. time since epoch: 337.210. Train acc: 0.980. Train Loss: 0.080\n",
            "--------------------\n",
            "epoch 8, loss 0.0800, train acc 0.980, test acc 0.976, time 444.2 sec\n",
            "Step 0. time since epoch: 1.708. Train acc: 0.988. Train Loss: 0.062\n",
            "Step 100. time since epoch: 169.518. Train acc: 0.981. Train Loss: 0.074\n",
            "Step 200. time since epoch: 338.106. Train acc: 0.981. Train Loss: 0.074\n",
            "--------------------\n",
            "epoch 9, loss 0.0733, train acc 0.981, test acc 0.977, time 445.5 sec\n",
            "Step 0. time since epoch: 1.642. Train acc: 0.988. Train Loss: 0.058\n",
            "Step 100. time since epoch: 169.312. Train acc: 0.983. Train Loss: 0.068\n",
            "Step 200. time since epoch: 337.206. Train acc: 0.983. Train Loss: 0.068\n",
            "--------------------\n",
            "epoch 10, loss 0.0677, train acc 0.983, test acc 0.978, time 444.7 sec\n"
          ]
        }
      ]
    },
    {
      "cell_type": "code",
      "source": [
        "BATCH_SIZE = 256\n",
        "transoforms = tv.transforms.Compose([\n",
        "    tv.transforms.Grayscale(3),\n",
        "    tv.transforms.Resize((299, 299)),\n",
        "    tv.transforms.ToTensor()\n",
        "])\n",
        "\n",
        "train_dataset = tv.datasets.EMNIST('.', train=True, transform=transoforms, download=True, split='mnist')\n",
        "test_dataset = tv.datasets.EMNIST('.', train=False, transform=transoforms, download=True, split='mnist')\n",
        "train_iter = torch.utils.data.DataLoader(train_dataset, batch_size=BATCH_SIZE)\n",
        "test_iter = torch.utils.data.DataLoader(test_dataset, batch_size=BATCH_SIZE)"
      ],
      "metadata": {
        "id": "f95SfNvFGvqb"
      },
      "execution_count": null,
      "outputs": []
    },
    {
      "cell_type": "code",
      "source": [
        "model = tv.models.inception_v3(pretrained=True)\n",
        "model = model.to(device)"
      ],
      "metadata": {
        "id": "KYiaiWovLPgu"
      },
      "execution_count": null,
      "outputs": []
    },
    {
      "cell_type": "code",
      "source": [
        "def evaluate_accuracy(data_iter, net):\n",
        "    acc_sum, n = 0, 0\n",
        "    net.eval()\n",
        "    for X, y in data_iter:\n",
        "        X, y = X.to(device), y.to(device)\n",
        "        y_hat = net(X)\n",
        "        acc_sum += (y_hat.argmax(axis=1) == y).sum()\n",
        "        n += y.shape[0]\n",
        "        return 0\n",
        "    return acc_sum.item() / n"
      ],
      "metadata": {
        "id": "1uG7kmN0x3mf"
      },
      "execution_count": null,
      "outputs": []
    },
    {
      "cell_type": "code",
      "source": [
        "def train(net, train_iter, test_iter, trainer, num_epochs):\n",
        "    train_loss = []\n",
        "    net.to(device)\n",
        "    loss = nn.CrossEntropyLoss(reduction='sum')\n",
        "    #net.train()\n",
        "    for epoch in range(num_epochs):\n",
        "        train_l_sum, train_acc_sum, n, start = 0.0, 0.0, 0, time.time()\n",
        "        net.train()\n",
        "        for i, (X, y) in enumerate(train_iter):\n",
        "            X, y = X.to(device), y.to(device)\n",
        "            trainer.zero_grad()\n",
        "            y_hat = net(X)\n",
        "            l = loss(y_hat[0], y)\n",
        "            l.backward()\n",
        "            trainer.step()\n",
        "            train_l_sum += l.item()\n",
        "            train_acc_sum += (y_hat[0].argmax(axis=1) == y).sum().item()\n",
        "            n += y.shape[0]\n",
        "\n",
        "            if i % 100 == 0:\n",
        "              print(f\"Step {i}. time since epoch: {time.time() -  start:.3f}. \"\n",
        "                    f\"Train acc: {train_acc_sum / n:.3f}. Train Loss: {train_l_sum / n:.3f}\")\n",
        "        test_acc = evaluate_accuracy(test_iter, net.to(device))\n",
        "        print('-' * 20)\n",
        "        train_loss.append(train_l_sum / n)\n",
        "        print(f'epoch {epoch + 1}, loss {train_l_sum / n:.4f}, train acc {train_acc_sum / n:.3f}'\n",
        "              f', test acc {test_acc:.3f}, time {time.time() - start:.1f} sec')\n",
        "    return train_loss"
      ],
      "metadata": {
        "id": "CW0GMrINKPrs"
      },
      "execution_count": null,
      "outputs": []
    },
    {
      "cell_type": "code",
      "source": [
        "# Убираем требование градиента:\n",
        "for param in model.parameters():\n",
        "    param.requires_grad = False\n",
        "model.fc = nn.Linear(in_features=2048, out_features=10)\n",
        "params_to_update = []\n",
        "for name, param in model.named_parameters():\n",
        "    if param.requires_grad == True:\n",
        "        params_to_update.append(param)\n",
        "        print(\"\\t\",name)\n",
        "trainer = torch.optim.Adam(params_to_update, lr=0.001)\n",
        "train_loss_inception_v3=train(model, train_iter, test_iter, trainer, 10)"
      ],
      "metadata": {
        "colab": {
          "base_uri": "https://localhost:8080/"
        },
        "id": "5cpruLBcieGB",
        "outputId": "d8571cb8-cf71-4b01-ef86-4e70a72fcf39"
      },
      "execution_count": null,
      "outputs": [
        {
          "output_type": "stream",
          "name": "stdout",
          "text": [
            "\t fc.weight\n",
            "\t fc.bias\n",
            "Step 0. time since epoch: 1.729. Train acc: 0.105. Train Loss: 2.332\n",
            "Step 100. time since epoch: 177.252. Train acc: 0.683. Train Loss: 1.202\n",
            "Step 200. time since epoch: 357.646. Train acc: 0.750. Train Loss: 0.935\n",
            "--------------------\n",
            "epoch 1, loss 0.8862, train acc 0.761, test acc 0.000, time 418.5 sec\n",
            "Step 0. time since epoch: 2.117. Train acc: 0.848. Train Loss: 0.577\n",
            "Step 100. time since epoch: 182.816. Train acc: 0.844. Train Loss: 0.530\n",
            "Step 200. time since epoch: 362.317. Train acc: 0.848. Train Loss: 0.510\n",
            "--------------------\n",
            "epoch 2, loss 0.5058, train acc 0.849, test acc 0.000, time 422.7 sec\n",
            "Step 0. time since epoch: 2.161. Train acc: 0.855. Train Loss: 0.500\n",
            "Step 100. time since epoch: 182.998. Train acc: 0.856. Train Loss: 0.457\n",
            "Step 200. time since epoch: 363.527. Train acc: 0.859. Train Loss: 0.449\n",
            "--------------------\n",
            "epoch 3, loss 0.4475, train acc 0.859, test acc 0.000, time 424.1 sec\n",
            "Step 0. time since epoch: 2.130. Train acc: 0.855. Train Loss: 0.452\n",
            "Step 100. time since epoch: 185.374. Train acc: 0.866. Train Loss: 0.420\n",
            "Step 200. time since epoch: 364.919. Train acc: 0.865. Train Loss: 0.420\n",
            "--------------------\n",
            "epoch 4, loss 0.4203, train acc 0.865, test acc 0.000, time 425.0 sec\n",
            "Step 0. time since epoch: 2.102. Train acc: 0.867. Train Loss: 0.426\n",
            "Step 100. time since epoch: 181.945. Train acc: 0.870. Train Loss: 0.402\n",
            "Step 200. time since epoch: 360.814. Train acc: 0.871. Train Loss: 0.400\n",
            "--------------------\n",
            "epoch 5, loss 0.4010, train acc 0.871, test acc 0.000, time 421.2 sec\n",
            "Step 0. time since epoch: 2.112. Train acc: 0.887. Train Loss: 0.374\n",
            "Step 100. time since epoch: 181.968. Train acc: 0.872. Train Loss: 0.394\n",
            "Step 200. time since epoch: 362.947. Train acc: 0.871. Train Loss: 0.394\n",
            "--------------------\n",
            "epoch 6, loss 0.3948, train acc 0.871, test acc 0.000, time 424.2 sec\n",
            "Step 0. time since epoch: 2.109. Train acc: 0.855. Train Loss: 0.421\n",
            "Step 100. time since epoch: 181.645. Train acc: 0.872. Train Loss: 0.388\n",
            "Step 200. time since epoch: 362.893. Train acc: 0.872. Train Loss: 0.389\n",
            "--------------------\n",
            "epoch 7, loss 0.3903, train acc 0.872, test acc 0.000, time 424.0 sec\n",
            "Step 0. time since epoch: 2.104. Train acc: 0.859. Train Loss: 0.424\n",
            "Step 100. time since epoch: 183.647. Train acc: 0.875. Train Loss: 0.376\n",
            "Step 200. time since epoch: 365.252. Train acc: 0.874. Train Loss: 0.380\n",
            "--------------------\n",
            "epoch 8, loss 0.3809, train acc 0.875, test acc 0.000, time 426.2 sec\n",
            "Step 0. time since epoch: 2.165. Train acc: 0.863. Train Loss: 0.423\n",
            "Step 100. time since epoch: 191.091. Train acc: 0.873. Train Loss: 0.373\n",
            "Step 200. time since epoch: 381.302. Train acc: 0.874. Train Loss: 0.376\n",
            "--------------------\n",
            "epoch 9, loss 0.3774, train acc 0.874, test acc 0.000, time 445.2 sec\n",
            "Step 0. time since epoch: 2.295. Train acc: 0.895. Train Loss: 0.370\n",
            "Step 100. time since epoch: 191.926. Train acc: 0.877. Train Loss: 0.370\n",
            "Step 200. time since epoch: 381.996. Train acc: 0.877. Train Loss: 0.372\n",
            "--------------------\n",
            "epoch 10, loss 0.3738, train acc 0.877, test acc 0.000, time 446.6 sec\n"
          ]
        }
      ]
    },
    {
      "cell_type": "code",
      "source": [
        "with open('train_loss_resnet18.txt', 'w') as filehandle:\n",
        "  for listitem in train_loss_resnet18: filehandle.write('%s\\n' % listitem)\n",
        "with open('train_loss_densenet161.txt', 'w') as filehandle:\n",
        "  for listitem in train_loss_densenet161: filehandle.write('%s\\n' % listitem)\n",
        "with open('train_loss_vgg16.txt', 'w') as filehandle:\n",
        "  for listitem in train_loss_vgg16: filehandle.write('%s\\n' % listitem)\n",
        "with open('train_loss_inception_v3.txt', 'w') as filehandle:\n",
        "  for listitem in train_loss_inception_v3: filehandle.write('%s\\n' % listitem)"
      ],
      "metadata": {
        "id": "mE5kq-13s_FV"
      },
      "execution_count": null,
      "outputs": []
    },
    {
      "cell_type": "code",
      "source": [
        "def get_list(name):\n",
        "  list = [] # open file and read the content in a list\n",
        "  nameFile='disk/MyDrive/Colab Notebooks/train_loss_'+name+'.txt'\n",
        "  with open(nameFile, 'r') as filehandle:\n",
        "    for line in filehandle:\n",
        "      currentPlace = line[:-1]\n",
        "      list.append(currentPlace)\n",
        "  return list"
      ],
      "metadata": {
        "id": "9gztU1TZ4zo-"
      },
      "execution_count": null,
      "outputs": []
    },
    {
      "cell_type": "code",
      "source": [
        "import pandas as pd\n",
        "df=pd.DataFrame()\n",
        "for file in ['densenet161','resnet18','vgg16','inception_v3']:\n",
        "  df[file]=get_list(file)\n",
        "df"
      ],
      "metadata": {
        "colab": {
          "base_uri": "https://localhost:8080/",
          "height": 322
        },
        "id": "0lga-2_P5cAB",
        "outputId": "e5368933-6676-4e15-a6ca-2db4bc632353"
      },
      "execution_count": null,
      "outputs": [
        {
          "output_type": "execute_result",
          "data": {
            "text/plain": [
              "           densenet161             resnet18                vgg16  \\\n",
              "0   0.5579128850301107   0.5985623298009237   0.6050189657211303   \n",
              "1  0.20829454860687255  0.21375242579778037  0.22673670482635497   \n",
              "2  0.15616221227645874   0.1618321361541748  0.16189049263000488   \n",
              "3   0.1306688444137573  0.13708691178957622  0.13114030125935872   \n",
              "4  0.11479521843592326  0.12194435890515645  0.11191433273951212   \n",
              "5  0.10364506781895956   0.1114611257870992  0.09838330376942953   \n",
              "6  0.09522140868504843  0.10364415211677551  0.08815297667980194   \n",
              "7   0.0885407996336619  0.09751512198448181  0.08002933260599772   \n",
              "8  0.08305559536616007   0.0925324975013733  0.07334711170991262   \n",
              "9  0.07843327859242757  0.08837054767608643  0.06770118295351664   \n",
              "\n",
              "          inception_v3  \n",
              "0   0.8861503180185953  \n",
              "1   0.5057969849904378  \n",
              "2   0.4475391455332438  \n",
              "3    0.420348814646403  \n",
              "4   0.4010060544331869  \n",
              "5   0.3948290496190389  \n",
              "6  0.39030328381856283  \n",
              "7   0.3809208676020304  \n",
              "8   0.3773638962427775  \n",
              "9   0.3737822489420573  "
            ],
            "text/html": [
              "\n",
              "  <div id=\"df-3f58998c-fec4-4282-9462-db99a6905236\">\n",
              "    <div class=\"colab-df-container\">\n",
              "      <div>\n",
              "<style scoped>\n",
              "    .dataframe tbody tr th:only-of-type {\n",
              "        vertical-align: middle;\n",
              "    }\n",
              "\n",
              "    .dataframe tbody tr th {\n",
              "        vertical-align: top;\n",
              "    }\n",
              "\n",
              "    .dataframe thead th {\n",
              "        text-align: right;\n",
              "    }\n",
              "</style>\n",
              "<table border=\"1\" class=\"dataframe\">\n",
              "  <thead>\n",
              "    <tr style=\"text-align: right;\">\n",
              "      <th></th>\n",
              "      <th>densenet161</th>\n",
              "      <th>resnet18</th>\n",
              "      <th>vgg16</th>\n",
              "      <th>inception_v3</th>\n",
              "    </tr>\n",
              "  </thead>\n",
              "  <tbody>\n",
              "    <tr>\n",
              "      <th>0</th>\n",
              "      <td>0.5579128850301107</td>\n",
              "      <td>0.5985623298009237</td>\n",
              "      <td>0.6050189657211303</td>\n",
              "      <td>0.8861503180185953</td>\n",
              "    </tr>\n",
              "    <tr>\n",
              "      <th>1</th>\n",
              "      <td>0.20829454860687255</td>\n",
              "      <td>0.21375242579778037</td>\n",
              "      <td>0.22673670482635497</td>\n",
              "      <td>0.5057969849904378</td>\n",
              "    </tr>\n",
              "    <tr>\n",
              "      <th>2</th>\n",
              "      <td>0.15616221227645874</td>\n",
              "      <td>0.1618321361541748</td>\n",
              "      <td>0.16189049263000488</td>\n",
              "      <td>0.4475391455332438</td>\n",
              "    </tr>\n",
              "    <tr>\n",
              "      <th>3</th>\n",
              "      <td>0.1306688444137573</td>\n",
              "      <td>0.13708691178957622</td>\n",
              "      <td>0.13114030125935872</td>\n",
              "      <td>0.420348814646403</td>\n",
              "    </tr>\n",
              "    <tr>\n",
              "      <th>4</th>\n",
              "      <td>0.11479521843592326</td>\n",
              "      <td>0.12194435890515645</td>\n",
              "      <td>0.11191433273951212</td>\n",
              "      <td>0.4010060544331869</td>\n",
              "    </tr>\n",
              "    <tr>\n",
              "      <th>5</th>\n",
              "      <td>0.10364506781895956</td>\n",
              "      <td>0.1114611257870992</td>\n",
              "      <td>0.09838330376942953</td>\n",
              "      <td>0.3948290496190389</td>\n",
              "    </tr>\n",
              "    <tr>\n",
              "      <th>6</th>\n",
              "      <td>0.09522140868504843</td>\n",
              "      <td>0.10364415211677551</td>\n",
              "      <td>0.08815297667980194</td>\n",
              "      <td>0.39030328381856283</td>\n",
              "    </tr>\n",
              "    <tr>\n",
              "      <th>7</th>\n",
              "      <td>0.0885407996336619</td>\n",
              "      <td>0.09751512198448181</td>\n",
              "      <td>0.08002933260599772</td>\n",
              "      <td>0.3809208676020304</td>\n",
              "    </tr>\n",
              "    <tr>\n",
              "      <th>8</th>\n",
              "      <td>0.08305559536616007</td>\n",
              "      <td>0.0925324975013733</td>\n",
              "      <td>0.07334711170991262</td>\n",
              "      <td>0.3773638962427775</td>\n",
              "    </tr>\n",
              "    <tr>\n",
              "      <th>9</th>\n",
              "      <td>0.07843327859242757</td>\n",
              "      <td>0.08837054767608643</td>\n",
              "      <td>0.06770118295351664</td>\n",
              "      <td>0.3737822489420573</td>\n",
              "    </tr>\n",
              "  </tbody>\n",
              "</table>\n",
              "</div>\n",
              "      <button class=\"colab-df-convert\" onclick=\"convertToInteractive('df-3f58998c-fec4-4282-9462-db99a6905236')\"\n",
              "              title=\"Convert this dataframe to an interactive table.\"\n",
              "              style=\"display:none;\">\n",
              "        \n",
              "  <svg xmlns=\"http://www.w3.org/2000/svg\" height=\"24px\"viewBox=\"0 0 24 24\"\n",
              "       width=\"24px\">\n",
              "    <path d=\"M0 0h24v24H0V0z\" fill=\"none\"/>\n",
              "    <path d=\"M18.56 5.44l.94 2.06.94-2.06 2.06-.94-2.06-.94-.94-2.06-.94 2.06-2.06.94zm-11 1L8.5 8.5l.94-2.06 2.06-.94-2.06-.94L8.5 2.5l-.94 2.06-2.06.94zm10 10l.94 2.06.94-2.06 2.06-.94-2.06-.94-.94-2.06-.94 2.06-2.06.94z\"/><path d=\"M17.41 7.96l-1.37-1.37c-.4-.4-.92-.59-1.43-.59-.52 0-1.04.2-1.43.59L10.3 9.45l-7.72 7.72c-.78.78-.78 2.05 0 2.83L4 21.41c.39.39.9.59 1.41.59.51 0 1.02-.2 1.41-.59l7.78-7.78 2.81-2.81c.8-.78.8-2.07 0-2.86zM5.41 20L4 18.59l7.72-7.72 1.47 1.35L5.41 20z\"/>\n",
              "  </svg>\n",
              "      </button>\n",
              "      \n",
              "  <style>\n",
              "    .colab-df-container {\n",
              "      display:flex;\n",
              "      flex-wrap:wrap;\n",
              "      gap: 12px;\n",
              "    }\n",
              "\n",
              "    .colab-df-convert {\n",
              "      background-color: #E8F0FE;\n",
              "      border: none;\n",
              "      border-radius: 50%;\n",
              "      cursor: pointer;\n",
              "      display: none;\n",
              "      fill: #1967D2;\n",
              "      height: 32px;\n",
              "      padding: 0 0 0 0;\n",
              "      width: 32px;\n",
              "    }\n",
              "\n",
              "    .colab-df-convert:hover {\n",
              "      background-color: #E2EBFA;\n",
              "      box-shadow: 0px 1px 2px rgba(60, 64, 67, 0.3), 0px 1px 3px 1px rgba(60, 64, 67, 0.15);\n",
              "      fill: #174EA6;\n",
              "    }\n",
              "\n",
              "    [theme=dark] .colab-df-convert {\n",
              "      background-color: #3B4455;\n",
              "      fill: #D2E3FC;\n",
              "    }\n",
              "\n",
              "    [theme=dark] .colab-df-convert:hover {\n",
              "      background-color: #434B5C;\n",
              "      box-shadow: 0px 1px 3px 1px rgba(0, 0, 0, 0.15);\n",
              "      filter: drop-shadow(0px 1px 2px rgba(0, 0, 0, 0.3));\n",
              "      fill: #FFFFFF;\n",
              "    }\n",
              "  </style>\n",
              "\n",
              "      <script>\n",
              "        const buttonEl =\n",
              "          document.querySelector('#df-3f58998c-fec4-4282-9462-db99a6905236 button.colab-df-convert');\n",
              "        buttonEl.style.display =\n",
              "          google.colab.kernel.accessAllowed ? 'block' : 'none';\n",
              "\n",
              "        async function convertToInteractive(key) {\n",
              "          const element = document.querySelector('#df-3f58998c-fec4-4282-9462-db99a6905236');\n",
              "          const dataTable =\n",
              "            await google.colab.kernel.invokeFunction('convertToInteractive',\n",
              "                                                     [key], {});\n",
              "          if (!dataTable) return;\n",
              "\n",
              "          const docLinkHtml = 'Like what you see? Visit the ' +\n",
              "            '<a target=\"_blank\" href=https://colab.research.google.com/notebooks/data_table.ipynb>data table notebook</a>'\n",
              "            + ' to learn more about interactive tables.';\n",
              "          element.innerHTML = '';\n",
              "          dataTable['output_type'] = 'display_data';\n",
              "          await google.colab.output.renderOutput(dataTable, element);\n",
              "          const docLink = document.createElement('div');\n",
              "          docLink.innerHTML = docLinkHtml;\n",
              "          element.appendChild(docLink);\n",
              "        }\n",
              "      </script>\n",
              "    </div>\n",
              "  </div>\n",
              "  "
            ]
          },
          "metadata": {},
          "execution_count": 82
        }
      ]
    },
    {
      "cell_type": "code",
      "source": [
        "df=df.astype(float)\n",
        "plt.plot( df['densenet161'], 'o-r', label='densenet161', linestyle='--')\n",
        "plt.plot(df['resnet18'], 'o-r', label='resnet18', linestyle='--')\n",
        "plt.plot(df['vgg16'],'o-.g', label='vgg16', linestyle='--')\n",
        "plt.plot(df['inception_v3'],'o-.y', label='inception_v3', linestyle='--')\n",
        "plt.legend()"
      ],
      "metadata": {
        "colab": {
          "base_uri": "https://localhost:8080/",
          "height": 606
        },
        "id": "K-WlFOUxLGgm",
        "outputId": "182d8c6c-d5cb-4080-f1c8-7dc38eb8377c"
      },
      "execution_count": null,
      "outputs": [
        {
          "output_type": "stream",
          "name": "stderr",
          "text": [
            "<ipython-input-80-af4d14061e8f>:1: UserWarning: linestyle is redundantly defined by the 'linestyle' keyword argument and the fmt string \"o-r\" (-> linestyle='-'). The keyword argument will take precedence.\n",
            "  plt.plot( df['densenet161'], 'o-r', label='densenet161', linestyle='--')\n",
            "<ipython-input-80-af4d14061e8f>:2: UserWarning: linestyle is redundantly defined by the 'linestyle' keyword argument and the fmt string \"o-r\" (-> linestyle='-'). The keyword argument will take precedence.\n",
            "  plt.plot(df['resnet18'], 'o-r', label='resnet18', linestyle='--')\n",
            "<ipython-input-80-af4d14061e8f>:3: UserWarning: linestyle is redundantly defined by the 'linestyle' keyword argument and the fmt string \"o-.g\" (-> linestyle='-.'). The keyword argument will take precedence.\n",
            "  plt.plot(df['vgg16'],'o-.g', label='vgg16', linestyle='--')\n",
            "<ipython-input-80-af4d14061e8f>:4: UserWarning: linestyle is redundantly defined by the 'linestyle' keyword argument and the fmt string \"o-.y\" (-> linestyle='-.'). The keyword argument will take precedence.\n",
            "  plt.plot(df['inception_v3'],'o-.y', label='inception_v3', linestyle='--')\n"
          ]
        },
        {
          "output_type": "execute_result",
          "data": {
            "text/plain": [
              "<matplotlib.legend.Legend at 0x7f7b13136470>"
            ]
          },
          "metadata": {},
          "execution_count": 80
        },
        {
          "output_type": "display_data",
          "data": {
            "text/plain": [
              "<Figure size 640x480 with 1 Axes>"
            ],
            "image/png": "[encoded data removed]"
          },
          "metadata": {}
        }
      ]
    }
  ],
  "metadata": {
    "accelerator": "GPU",
    "colab": {
      "provenance": [],
      "gpuType": "T4"
    },
    "kernelspec": {
      "display_name": "Python 3",
      "name": "python3"
    },
    "language_info": {
      "name": "python"
    }
  },
  "nbformat": 4,
  "nbformat_minor": 0
}